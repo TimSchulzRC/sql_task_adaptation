{
 "cells": [
  {
   "cell_type": "code",
   "execution_count": 2,
   "metadata": {},
   "outputs": [],
   "source": [
    "from EduKTM import DKT\n",
    "import torch\n",
    "import torch.utils.data as Data\n",
    "import numpy as np\n",
    "import logging\n",
    "import tqdm\n",
    "from sklearn.metrics import roc_auc_score"
   ]
  },
  {
   "cell_type": "code",
   "execution_count": 3,
   "metadata": {},
   "outputs": [],
   "source": [
    "NUM_QUESTIONS = 512\n",
    "BATCH_SIZE = 64\n",
    "HIDDEN_SIZE = 10\n",
    "NUM_LAYERS = 1\n",
    "\n",
    "def get_data_loader(data_path, batch_size, shuffle=False):\n",
    "    data = torch.FloatTensor(np.load(data_path))\n",
    "    data_loader = Data.DataLoader(data, batch_size=batch_size, shuffle=shuffle)\n",
    "    return data_loader"
   ]
  },
  {
   "cell_type": "code",
   "execution_count": 4,
   "metadata": {},
   "outputs": [],
   "source": [
    "train_loader = get_data_loader(\n",
    "    './train_data.npy', BATCH_SIZE, True)\n",
    "test_loader = get_data_loader(\n",
    "    './test_data.npy', BATCH_SIZE, False)\n",
    "\n",
    "logging.getLogger().setLevel(logging.INFO)\n",
    "\n",
    "dkt = DKT(NUM_QUESTIONS, HIDDEN_SIZE, NUM_LAYERS)"
   ]
  },
  {
   "cell_type": "code",
   "execution_count": 5,
   "metadata": {},
   "outputs": [
    {
     "name": "stderr",
     "output_type": "stream",
     "text": [
      "Epoch 0: 100%|██████████| 17/17 [00:01<00:00,  8.81it/s]\n"
     ]
    },
    {
     "name": "stdout",
     "output_type": "stream",
     "text": [
      "[Epoch 0] LogisticLoss: 42.961213\n"
     ]
    },
    {
     "name": "stderr",
     "output_type": "stream",
     "text": [
      "Epoch 1: 100%|██████████| 17/17 [00:01<00:00,  9.76it/s]\n"
     ]
    },
    {
     "name": "stdout",
     "output_type": "stream",
     "text": [
      "[Epoch 1] LogisticLoss: 41.452244\n"
     ]
    },
    {
     "name": "stderr",
     "output_type": "stream",
     "text": [
      "Epoch 2: 100%|██████████| 17/17 [00:01<00:00, 11.18it/s]\n"
     ]
    },
    {
     "name": "stdout",
     "output_type": "stream",
     "text": [
      "[Epoch 2] LogisticLoss: 39.596258\n"
     ]
    },
    {
     "name": "stderr",
     "output_type": "stream",
     "text": [
      "Epoch 3: 100%|██████████| 17/17 [00:01<00:00, 10.42it/s]\n"
     ]
    },
    {
     "name": "stdout",
     "output_type": "stream",
     "text": [
      "[Epoch 3] LogisticLoss: 37.594331\n"
     ]
    },
    {
     "name": "stderr",
     "output_type": "stream",
     "text": [
      "Epoch 4: 100%|██████████| 17/17 [00:01<00:00, 11.45it/s]\n"
     ]
    },
    {
     "name": "stdout",
     "output_type": "stream",
     "text": [
      "[Epoch 4] LogisticLoss: 36.126020\n"
     ]
    },
    {
     "name": "stderr",
     "output_type": "stream",
     "text": [
      "Epoch 5: 100%|██████████| 17/17 [00:01<00:00, 11.33it/s]\n"
     ]
    },
    {
     "name": "stdout",
     "output_type": "stream",
     "text": [
      "[Epoch 5] LogisticLoss: 35.217559\n"
     ]
    },
    {
     "name": "stderr",
     "output_type": "stream",
     "text": [
      "Epoch 6: 100%|██████████| 17/17 [00:01<00:00, 10.63it/s]\n"
     ]
    },
    {
     "name": "stdout",
     "output_type": "stream",
     "text": [
      "[Epoch 6] LogisticLoss: 34.582698\n"
     ]
    },
    {
     "name": "stderr",
     "output_type": "stream",
     "text": [
      "Epoch 7: 100%|██████████| 17/17 [00:01<00:00,  9.27it/s]\n"
     ]
    },
    {
     "name": "stdout",
     "output_type": "stream",
     "text": [
      "[Epoch 7] LogisticLoss: 33.852721\n"
     ]
    },
    {
     "name": "stderr",
     "output_type": "stream",
     "text": [
      "Epoch 8: 100%|██████████| 17/17 [00:01<00:00, 11.62it/s]\n"
     ]
    },
    {
     "name": "stdout",
     "output_type": "stream",
     "text": [
      "[Epoch 8] LogisticLoss: 31.726310\n"
     ]
    },
    {
     "name": "stderr",
     "output_type": "stream",
     "text": [
      "Epoch 9: 100%|██████████| 17/17 [00:01<00:00,  9.84it/s]\n"
     ]
    },
    {
     "name": "stdout",
     "output_type": "stream",
     "text": [
      "[Epoch 9] LogisticLoss: 29.656526\n"
     ]
    },
    {
     "name": "stderr",
     "output_type": "stream",
     "text": [
      "Epoch 10: 100%|██████████| 17/17 [00:01<00:00, 11.88it/s]\n"
     ]
    },
    {
     "name": "stdout",
     "output_type": "stream",
     "text": [
      "[Epoch 10] LogisticLoss: 27.684287\n"
     ]
    },
    {
     "name": "stderr",
     "output_type": "stream",
     "text": [
      "Epoch 11: 100%|██████████| 17/17 [00:01<00:00, 11.50it/s]\n"
     ]
    },
    {
     "name": "stdout",
     "output_type": "stream",
     "text": [
      "[Epoch 11] LogisticLoss: 25.920891\n"
     ]
    },
    {
     "name": "stderr",
     "output_type": "stream",
     "text": [
      "Epoch 12: 100%|██████████| 17/17 [00:01<00:00, 12.03it/s]\n"
     ]
    },
    {
     "name": "stdout",
     "output_type": "stream",
     "text": [
      "[Epoch 12] LogisticLoss: 24.572429\n"
     ]
    },
    {
     "name": "stderr",
     "output_type": "stream",
     "text": [
      "Epoch 13: 100%|██████████| 17/17 [00:01<00:00, 11.97it/s]\n"
     ]
    },
    {
     "name": "stdout",
     "output_type": "stream",
     "text": [
      "[Epoch 13] LogisticLoss: 23.552952\n"
     ]
    },
    {
     "name": "stderr",
     "output_type": "stream",
     "text": [
      "Epoch 14: 100%|██████████| 17/17 [00:01<00:00, 11.59it/s]\n"
     ]
    },
    {
     "name": "stdout",
     "output_type": "stream",
     "text": [
      "[Epoch 14] LogisticLoss: 22.700881\n"
     ]
    },
    {
     "name": "stderr",
     "output_type": "stream",
     "text": [
      "Epoch 15: 100%|██████████| 17/17 [00:01<00:00, 12.21it/s]\n"
     ]
    },
    {
     "name": "stdout",
     "output_type": "stream",
     "text": [
      "[Epoch 15] LogisticLoss: 21.897940\n"
     ]
    },
    {
     "name": "stderr",
     "output_type": "stream",
     "text": [
      "Epoch 16: 100%|██████████| 17/17 [00:01<00:00, 11.76it/s]\n"
     ]
    },
    {
     "name": "stdout",
     "output_type": "stream",
     "text": [
      "[Epoch 16] LogisticLoss: 21.176840\n"
     ]
    },
    {
     "name": "stderr",
     "output_type": "stream",
     "text": [
      "Epoch 17: 100%|██████████| 17/17 [00:01<00:00, 11.14it/s]\n"
     ]
    },
    {
     "name": "stdout",
     "output_type": "stream",
     "text": [
      "[Epoch 17] LogisticLoss: 20.532189\n"
     ]
    },
    {
     "name": "stderr",
     "output_type": "stream",
     "text": [
      "Epoch 18: 100%|██████████| 17/17 [00:01<00:00, 11.13it/s]\n"
     ]
    },
    {
     "name": "stdout",
     "output_type": "stream",
     "text": [
      "[Epoch 18] LogisticLoss: 19.970276\n"
     ]
    },
    {
     "name": "stderr",
     "output_type": "stream",
     "text": [
      "Epoch 19: 100%|██████████| 17/17 [00:01<00:00, 11.44it/s]\n",
      "INFO:root:save parameters to dkt.params\n"
     ]
    },
    {
     "name": "stdout",
     "output_type": "stream",
     "text": [
      "[Epoch 19] LogisticLoss: 19.481976\n"
     ]
    }
   ],
   "source": [
    "dkt = DKT(NUM_QUESTIONS, HIDDEN_SIZE, NUM_LAYERS)\n",
    "dkt.train(train_loader, epoch=20)\n",
    "dkt.save(\"dkt.params\")\n"
   ]
  },
  {
   "cell_type": "code",
   "execution_count": 6,
   "metadata": {},
   "outputs": [
    {
     "name": "stderr",
     "output_type": "stream",
     "text": [
      "/opt/homebrew/Caskroom/miniconda/base/envs/sql_task_adaptation/lib/python3.12/site-packages/EduKTM/DKT/DKT.py:92: FutureWarning: You are using `torch.load` with `weights_only=False` (the current default value), which uses the default pickle module implicitly. It is possible to construct malicious pickle data which will execute arbitrary code during unpickling (See https://github.com/pytorch/pytorch/blob/main/SECURITY.md#untrusted-models for more details). In a future release, the default value for `weights_only` will be flipped to `True`. This limits the functions that could be executed during unpickling. Arbitrary objects will no longer be allowed to be loaded via this mode unless they are explicitly allowlisted by the user via `torch.serialization.add_safe_globals`. We recommend you start setting `weights_only=True` for any use case where you don't have full control of the loaded file. Please open an issue on GitHub for any issues related to this experimental feature.\n",
      "  self.dkt_model.load_state_dict(torch.load(filepath))\n",
      "INFO:root:load parameters from dkt.params\n",
      "evaluating: 100%|██████████| 8/8 [00:00<00:00, 36.74it/s]"
     ]
    },
    {
     "name": "stdout",
     "output_type": "stream",
     "text": [
      "auc: 0.922298\n"
     ]
    },
    {
     "name": "stderr",
     "output_type": "stream",
     "text": [
      "\n"
     ]
    }
   ],
   "source": [
    "dkt.load(\"dkt.params\")\n",
    "auc = dkt.eval(test_loader)\n",
    "print(\"auc: %.6f\" % auc)"
   ]
  },
  {
   "cell_type": "code",
   "execution_count": 7,
   "metadata": {},
   "outputs": [],
   "source": [
    "def process_raw_pred(raw_question_matrix, raw_pred, num_questions: int) -> tuple:\n",
    "    questions = torch.nonzero(raw_question_matrix)[1:, 1] % num_questions\n",
    "    length = questions.shape[0]\n",
    "    pred = raw_pred[: length]\n",
    "    pred = pred.gather(1, questions.view(-1, 1)).flatten()\n",
    "    truth = torch.nonzero(raw_question_matrix)[1:, 1] // num_questions\n",
    "    \n",
    "    return pred, truth\n",
    "\n",
    "def eval(model, test_data) -> float:\n",
    "    model.eval()\n",
    "    y_pred = torch.Tensor([])\n",
    "    y_truth = torch.Tensor([])\n",
    "    for batch in tqdm.tqdm(test_data, \"evaluating\"):\n",
    "        integrated_pred = model(batch)\n",
    "        batch_size = batch.shape[0]\n",
    "        for student in range(batch_size):\n",
    "            pred, truth = process_raw_pred(batch[student], integrated_pred[student], NUM_QUESTIONS)\n",
    "            y_pred = torch.cat([y_pred, pred])\n",
    "            y_truth = torch.cat([y_truth, truth])\n",
    "    return [y_pred, y_truth]"
   ]
  },
  {
   "cell_type": "code",
   "execution_count": 8,
   "metadata": {},
   "outputs": [
    {
     "name": "stderr",
     "output_type": "stream",
     "text": [
      "evaluating: 100%|██████████| 8/8 [00:00<00:00, 32.75it/s]"
     ]
    },
    {
     "name": "stdout",
     "output_type": "stream",
     "text": [
      "tensor([0.0957, 0.0515, 0.0477, 0.1115, 0.0554, 0.0382, 0.1549, 0.6931, 0.3757,\n",
      "        0.3828], grad_fn=<SliceBackward0>)\n",
      "torch.Size([13050])\n",
      "Binary predictions: tensor([0., 0., 0.,  ..., 1., 1., 1.])\n",
      "Accuracy: tensor(0.8579)\n",
      "y_pred_binary shape torch.Size([13050])\n"
     ]
    },
    {
     "name": "stderr",
     "output_type": "stream",
     "text": [
      "\n"
     ]
    },
    {
     "data": {
      "text/plain": [
       "np.float64(0.9222978826273354)"
      ]
     },
     "execution_count": 8,
     "metadata": {},
     "output_type": "execute_result"
    }
   ],
   "source": [
    "model = dkt.dkt_model\n",
    "\n",
    "y_pred, y_truth = eval(model, test_loader)\n",
    "\n",
    "print(y_pred[:10])\n",
    "print(y_truth.shape)\n",
    "\n",
    "y_pred_binary = (y_pred >= 0.5).float()\n",
    "print(\"Binary predictions:\", y_pred_binary)\n",
    "\n",
    "print(\"Accuracy:\", torch.sum(y_pred_binary == y_truth)/len(y_truth))\n",
    "print(\"y_pred_binary shape\", y_pred_binary.shape)\n",
    "roc_auc_score(y_truth.detach().numpy(), y_pred.detach().numpy())"
   ]
  },
  {
   "cell_type": "code",
   "execution_count": 9,
   "metadata": {},
   "outputs": [
    {
     "name": "stdout",
     "output_type": "stream",
     "text": [
      "torch.Size([1, 30, 512])\n",
      "tensor([[[0.3820, 0.5953, 0.4590,  ..., 0.3167, 0.6619, 0.5179],\n",
      "         [0.3185, 0.6817, 0.4508,  ..., 0.2351, 0.7373, 0.4988],\n",
      "         [0.2903, 0.6939, 0.5015,  ..., 0.2341, 0.7832, 0.4544],\n",
      "         ...,\n",
      "         [0.2656, 0.7330, 0.5728,  ..., 0.1759, 0.8425, 0.4089],\n",
      "         [0.2656, 0.7308, 0.5700,  ..., 0.1802, 0.8428, 0.4232],\n",
      "         [0.2679, 0.7281, 0.5724,  ..., 0.1816, 0.8452, 0.4193]]],\n",
      "       grad_fn=<SigmoidBackward0>)\n"
     ]
    }
   ],
   "source": [
    "model = dkt.dkt_model\n",
    "\n",
    "first_batch = next(iter(test_loader))\n",
    "first_batch_element = first_batch[0]\n",
    "first_batch_size_1 = first_batch_element.unsqueeze(0)\n",
    "model.eval()\n",
    "\n",
    "pred = model(first_batch_size_1)\n",
    "\n",
    "print(pred.shape)\n",
    "\n",
    "round = torch.round(pred)\n",
    "\n",
    "torch.save(round, 'round_predictions.pt')\n",
    "\n",
    "last_pred = pred[0, -1, :]\n",
    "\n",
    "print(pred)\n",
    "\n",
    "# new_dataset = first_batch_element.unsqueeze(0)\n",
    "\n",
    "# new_test_loader = Data.DataLoader(new_dataset, batch_size=1, shuffle=False)\n",
    "# print(new_test_loader.dataset.shape)\n",
    "# pred_y, true_y = eval(model, new_test_loader)\n",
    "# print(\"Predictions:\", pred_y)\n",
    "# print(\"Ground truth:\", true_y)\n",
    "# print(\"ROC AUC:\", roc_auc_score(true_y.detach().numpy(), pred_y.detach().numpy()))\n"
   ]
  }
 ],
 "metadata": {
  "kernelspec": {
   "display_name": "sql_task_adaptation",
   "language": "python",
   "name": "python3"
  },
  "language_info": {
   "codemirror_mode": {
    "name": "ipython",
    "version": 3
   },
   "file_extension": ".py",
   "mimetype": "text/x-python",
   "name": "python",
   "nbconvert_exporter": "python",
   "pygments_lexer": "ipython3",
   "version": "3.12.3"
  }
 },
 "nbformat": 4,
 "nbformat_minor": 2
}
