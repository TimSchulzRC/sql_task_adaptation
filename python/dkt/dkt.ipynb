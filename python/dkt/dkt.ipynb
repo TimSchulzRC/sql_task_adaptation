{
 "cells": [
  {
   "cell_type": "code",
   "execution_count": null,
   "metadata": {},
   "outputs": [],
   "source": [
    "from EduKTM import DKT\n",
    "import torch\n",
    "import torch.utils.data as Data\n",
    "import numpy as np\n",
    "import logging\n",
    "import tqdm\n",
    "from sklearn.metrics import roc_auc_score"
   ]
  },
  {
   "cell_type": "code",
   "execution_count": null,
   "metadata": {},
   "outputs": [],
   "source": [
    "NUM_QUESTIONS = 9\n",
    "BATCH_SIZE = 64\n",
    "HIDDEN_SIZE = 10\n",
    "NUM_LAYERS = 1\n",
    "\n",
    "def get_data_loader(data_path, batch_size, shuffle=False):\n",
    "    data = torch.FloatTensor(np.load(data_path))\n",
    "    data_loader = Data.DataLoader(data, batch_size=batch_size, shuffle=shuffle)\n",
    "    return data_loader"
   ]
  },
  {
   "cell_type": "code",
   "execution_count": null,
   "metadata": {},
   "outputs": [],
   "source": [
    "train_loader = get_data_loader(\n",
    "    './train_data.npy', BATCH_SIZE, True)\n",
    "test_loader = get_data_loader(\n",
    "    './test_data.npy', BATCH_SIZE, False)\n",
    "\n",
    "logging.getLogger().setLevel(logging.INFO)"
   ]
  },
  {
   "cell_type": "code",
   "execution_count": null,
   "metadata": {},
   "outputs": [],
   "source": [
    "dkt = DKT(NUM_QUESTIONS, HIDDEN_SIZE, NUM_LAYERS)\n",
    "dkt.train(train_loader, test_loader, epoch=20)\n",
    "dkt.save(\"dkt.params\")\n"
   ]
  },
  {
   "cell_type": "code",
   "execution_count": null,
   "metadata": {},
   "outputs": [],
   "source": [
    "dkt.load(\"dkt.params\")\n",
    "auc = dkt.eval(test_loader)\n",
    "print(\"auc: %.6f\" % auc)"
   ]
  },
  {
   "cell_type": "code",
   "execution_count": null,
   "metadata": {},
   "outputs": [],
   "source": [
    "def process_raw_pred(raw_question_matrix, raw_pred, num_questions: int) -> tuple:\n",
    "    questions = torch.nonzero(raw_question_matrix)[1:, 1] % num_questions\n",
    "    length = questions.shape[0]\n",
    "    pred = raw_pred[: length]\n",
    "    pred = pred.gather(1, questions.view(-1, 1)).flatten()\n",
    "    truth = torch.nonzero(raw_question_matrix)[1:, 1] // num_questions\n",
    "    \n",
    "    return pred, truth\n",
    "\n",
    "def eval(model, test_data) -> float:\n",
    "    model.eval()\n",
    "    y_pred = torch.Tensor([])\n",
    "    y_truth = torch.Tensor([])\n",
    "    for batch in tqdm.tqdm(test_data, \"evaluating\"):\n",
    "        integrated_pred = model(batch)\n",
    "        batch_size = batch.shape[0]\n",
    "        for student in range(batch_size):\n",
    "            pred, truth = process_raw_pred(batch[student], integrated_pred[student], NUM_QUESTIONS)\n",
    "            y_pred = torch.cat([y_pred, pred])\n",
    "            y_truth = torch.cat([y_truth, truth])\n",
    "    return [y_pred, y_truth]"
   ]
  },
  {
   "cell_type": "code",
   "execution_count": null,
   "metadata": {},
   "outputs": [],
   "source": [
    "model = dkt.dkt_model\n",
    "\n",
    "y_pred, y_truth = eval(model, test_loader)\n",
    "\n",
    "print(y_pred[:10])\n",
    "print(y_truth.shape)\n",
    "\n",
    "y_pred_binary = (y_pred >= 0.5).float()\n",
    "print(\"Binary predictions:\", y_pred_binary)\n",
    "\n",
    "print(\"Accuracy:\", torch.sum(y_pred_binary == y_truth)/len(y_truth))\n",
    "print(\"y_pred_binary shape\", y_pred_binary.shape)\n",
    "roc_auc_score(y_truth.detach().numpy(), y_pred.detach().numpy())"
   ]
  },
  {
   "cell_type": "code",
   "execution_count": null,
   "metadata": {},
   "outputs": [],
   "source": [
    "model = dkt.dkt_model\n",
    "\n",
    "first_batch = next(iter(test_loader))\n",
    "first_batch_element = first_batch[0]\n",
    "first_batch_size_1 = first_batch_element.unsqueeze(0)\n",
    "model.eval()\n",
    "\n",
    "\n",
    "pred = model(first_batch_size_1)\n",
    "\n",
    "print(pred.shape)\n",
    "\n",
    "last_pred = pred[0, -1, :]\n",
    "\n",
    "print(pred)\n",
    "\n",
    "# new_dataset = first_batch_element.unsqueeze(0)\n",
    "\n",
    "# new_test_loader = Data.DataLoader(new_dataset, batch_size=1, shuffle=False)\n",
    "# print(new_test_loader.dataset.shape)\n",
    "# pred_y, true_y = eval(model, new_test_loader)\n",
    "# print(\"Predictions:\", pred_y)\n",
    "# print(\"Ground truth:\", true_y)\n",
    "# print(\"ROC AUC:\", roc_auc_score(true_y.detach().numpy(), pred_y.detach().numpy()))\n"
   ]
  }
 ],
 "metadata": {
  "kernelspec": {
   "display_name": "sql_task_adaptation",
   "language": "python",
   "name": "python3"
  },
  "language_info": {
   "codemirror_mode": {
    "name": "ipython",
    "version": 3
   },
   "file_extension": ".py",
   "mimetype": "text/x-python",
   "name": "python",
   "nbconvert_exporter": "python",
   "pygments_lexer": "ipython3",
   "version": "3.12.3"
  }
 },
 "nbformat": 4,
 "nbformat_minor": 2
}
