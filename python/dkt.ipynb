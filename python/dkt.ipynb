{
 "cells": [
  {
   "cell_type": "code",
   "execution_count": 29,
   "metadata": {},
   "outputs": [],
   "source": [
    "from EduKTM import DKT\n",
    "import torch\n",
    "import torch.utils.data as Data\n",
    "import numpy as np\n",
    "import logging\n",
    "import tqdm\n",
    "from sklearn.metrics import roc_auc_score"
   ]
  },
  {
   "cell_type": "code",
   "execution_count": 30,
   "metadata": {},
   "outputs": [],
   "source": [
    "NUM_QUESTIONS = 9\n",
    "BATCH_SIZE = 64\n",
    "HIDDEN_SIZE = 10\n",
    "NUM_LAYERS = 1\n",
    "\n",
    "def get_data_loader(data_path, batch_size, shuffle=False):\n",
    "    data = torch.FloatTensor(np.load(data_path))\n",
    "    data_loader = Data.DataLoader(data, batch_size=batch_size, shuffle=shuffle)\n",
    "    return data_loader"
   ]
  },
  {
   "cell_type": "code",
   "execution_count": 31,
   "metadata": {},
   "outputs": [],
   "source": [
    "train_loader = get_data_loader(\n",
    "    './train_data.npy', BATCH_SIZE, True)\n",
    "test_loader = get_data_loader(\n",
    "    './test_data.npy', BATCH_SIZE, False)\n",
    "\n",
    "logging.getLogger().setLevel(logging.INFO)\n",
    "\n",
    "dkt = DKT(NUM_QUESTIONS, HIDDEN_SIZE, NUM_LAYERS)"
   ]
  },
  {
   "cell_type": "code",
   "execution_count": 32,
   "metadata": {},
   "outputs": [
    {
     "name": "stderr",
     "output_type": "stream",
     "text": [
      "Epoch 0: 100%|██████████| 985/985 [00:08<00:00, 117.54it/s]\n"
     ]
    },
    {
     "name": "stdout",
     "output_type": "stream",
     "text": [
      "[Epoch 0] LogisticLoss: 19.118973\n"
     ]
    },
    {
     "name": "stderr",
     "output_type": "stream",
     "text": [
      "Epoch 1: 100%|██████████| 985/985 [00:08<00:00, 113.46it/s]\n"
     ]
    },
    {
     "name": "stdout",
     "output_type": "stream",
     "text": [
      "[Epoch 1] LogisticLoss: 14.254794\n"
     ]
    },
    {
     "name": "stderr",
     "output_type": "stream",
     "text": [
      "Epoch 2: 100%|██████████| 985/985 [00:08<00:00, 110.10it/s]\n"
     ]
    },
    {
     "name": "stdout",
     "output_type": "stream",
     "text": [
      "[Epoch 2] LogisticLoss: 13.729920\n"
     ]
    },
    {
     "name": "stderr",
     "output_type": "stream",
     "text": [
      "Epoch 3: 100%|██████████| 985/985 [00:09<00:00, 107.89it/s]\n"
     ]
    },
    {
     "name": "stdout",
     "output_type": "stream",
     "text": [
      "[Epoch 3] LogisticLoss: 13.579055\n"
     ]
    },
    {
     "name": "stderr",
     "output_type": "stream",
     "text": [
      "Epoch 4: 100%|██████████| 985/985 [00:09<00:00, 106.92it/s]\n"
     ]
    },
    {
     "name": "stdout",
     "output_type": "stream",
     "text": [
      "[Epoch 4] LogisticLoss: 13.519619\n"
     ]
    },
    {
     "name": "stderr",
     "output_type": "stream",
     "text": [
      "Epoch 5: 100%|██████████| 985/985 [00:09<00:00, 106.06it/s]\n"
     ]
    },
    {
     "name": "stdout",
     "output_type": "stream",
     "text": [
      "[Epoch 5] LogisticLoss: 13.483814\n"
     ]
    },
    {
     "name": "stderr",
     "output_type": "stream",
     "text": [
      "Epoch 6: 100%|██████████| 985/985 [00:09<00:00, 105.02it/s]\n"
     ]
    },
    {
     "name": "stdout",
     "output_type": "stream",
     "text": [
      "[Epoch 6] LogisticLoss: 13.429154\n"
     ]
    },
    {
     "name": "stderr",
     "output_type": "stream",
     "text": [
      "Epoch 7: 100%|██████████| 985/985 [00:09<00:00, 100.05it/s]\n"
     ]
    },
    {
     "name": "stdout",
     "output_type": "stream",
     "text": [
      "[Epoch 7] LogisticLoss: 13.385519\n"
     ]
    },
    {
     "name": "stderr",
     "output_type": "stream",
     "text": [
      "Epoch 8: 100%|██████████| 985/985 [00:09<00:00, 101.24it/s]\n"
     ]
    },
    {
     "name": "stdout",
     "output_type": "stream",
     "text": [
      "[Epoch 8] LogisticLoss: 13.346164\n"
     ]
    },
    {
     "name": "stderr",
     "output_type": "stream",
     "text": [
      "Epoch 9: 100%|██████████| 985/985 [00:10<00:00, 97.15it/s] \n"
     ]
    },
    {
     "name": "stdout",
     "output_type": "stream",
     "text": [
      "[Epoch 9] LogisticLoss: 13.328444\n"
     ]
    },
    {
     "name": "stderr",
     "output_type": "stream",
     "text": [
      "Epoch 10: 100%|██████████| 985/985 [00:10<00:00, 96.49it/s] \n"
     ]
    },
    {
     "name": "stdout",
     "output_type": "stream",
     "text": [
      "[Epoch 10] LogisticLoss: 13.292995\n"
     ]
    },
    {
     "name": "stderr",
     "output_type": "stream",
     "text": [
      "Epoch 11: 100%|██████████| 985/985 [00:09<00:00, 100.14it/s]\n"
     ]
    },
    {
     "name": "stdout",
     "output_type": "stream",
     "text": [
      "[Epoch 11] LogisticLoss: 13.271375\n"
     ]
    },
    {
     "name": "stderr",
     "output_type": "stream",
     "text": [
      "Epoch 12: 100%|██████████| 985/985 [00:09<00:00, 102.22it/s]\n"
     ]
    },
    {
     "name": "stdout",
     "output_type": "stream",
     "text": [
      "[Epoch 12] LogisticLoss: 13.261382\n"
     ]
    },
    {
     "name": "stderr",
     "output_type": "stream",
     "text": [
      "Epoch 13: 100%|██████████| 985/985 [00:09<00:00, 102.70it/s]\n"
     ]
    },
    {
     "name": "stdout",
     "output_type": "stream",
     "text": [
      "[Epoch 13] LogisticLoss: 13.241738\n"
     ]
    },
    {
     "name": "stderr",
     "output_type": "stream",
     "text": [
      "Epoch 14: 100%|██████████| 985/985 [00:09<00:00, 102.39it/s]\n"
     ]
    },
    {
     "name": "stdout",
     "output_type": "stream",
     "text": [
      "[Epoch 14] LogisticLoss: 13.229973\n"
     ]
    },
    {
     "name": "stderr",
     "output_type": "stream",
     "text": [
      "Epoch 15: 100%|██████████| 985/985 [00:09<00:00, 102.87it/s]\n"
     ]
    },
    {
     "name": "stdout",
     "output_type": "stream",
     "text": [
      "[Epoch 15] LogisticLoss: 13.209170\n"
     ]
    },
    {
     "name": "stderr",
     "output_type": "stream",
     "text": [
      "Epoch 16: 100%|██████████| 985/985 [00:09<00:00, 102.50it/s]\n"
     ]
    },
    {
     "name": "stdout",
     "output_type": "stream",
     "text": [
      "[Epoch 16] LogisticLoss: 13.188568\n"
     ]
    },
    {
     "name": "stderr",
     "output_type": "stream",
     "text": [
      "Epoch 17: 100%|██████████| 985/985 [00:09<00:00, 101.92it/s]\n"
     ]
    },
    {
     "name": "stdout",
     "output_type": "stream",
     "text": [
      "[Epoch 17] LogisticLoss: 13.157853\n"
     ]
    },
    {
     "name": "stderr",
     "output_type": "stream",
     "text": [
      "Epoch 18: 100%|██████████| 985/985 [00:09<00:00, 102.98it/s]\n"
     ]
    },
    {
     "name": "stdout",
     "output_type": "stream",
     "text": [
      "[Epoch 18] LogisticLoss: 13.136709\n"
     ]
    },
    {
     "name": "stderr",
     "output_type": "stream",
     "text": [
      "Epoch 19: 100%|██████████| 985/985 [00:09<00:00, 102.43it/s]\n"
     ]
    },
    {
     "name": "stdout",
     "output_type": "stream",
     "text": [
      "[Epoch 19] LogisticLoss: 13.110738\n"
     ]
    },
    {
     "name": "stderr",
     "output_type": "stream",
     "text": [
      "Epoch 20: 100%|██████████| 985/985 [00:09<00:00, 102.33it/s]\n"
     ]
    },
    {
     "name": "stdout",
     "output_type": "stream",
     "text": [
      "[Epoch 20] LogisticLoss: 13.097410\n"
     ]
    },
    {
     "name": "stderr",
     "output_type": "stream",
     "text": [
      "Epoch 21: 100%|██████████| 985/985 [00:09<00:00, 101.55it/s]\n"
     ]
    },
    {
     "name": "stdout",
     "output_type": "stream",
     "text": [
      "[Epoch 21] LogisticLoss: 13.094233\n"
     ]
    },
    {
     "name": "stderr",
     "output_type": "stream",
     "text": [
      "Epoch 22: 100%|██████████| 985/985 [00:09<00:00, 102.31it/s]\n"
     ]
    },
    {
     "name": "stdout",
     "output_type": "stream",
     "text": [
      "[Epoch 22] LogisticLoss: 13.077089\n"
     ]
    },
    {
     "name": "stderr",
     "output_type": "stream",
     "text": [
      "Epoch 23: 100%|██████████| 985/985 [00:09<00:00, 102.13it/s]\n"
     ]
    },
    {
     "name": "stdout",
     "output_type": "stream",
     "text": [
      "[Epoch 23] LogisticLoss: 13.058505\n"
     ]
    },
    {
     "name": "stderr",
     "output_type": "stream",
     "text": [
      "Epoch 24: 100%|██████████| 985/985 [00:09<00:00, 100.40it/s]\n"
     ]
    },
    {
     "name": "stdout",
     "output_type": "stream",
     "text": [
      "[Epoch 24] LogisticLoss: 13.048740\n"
     ]
    },
    {
     "name": "stderr",
     "output_type": "stream",
     "text": [
      "Epoch 25: 100%|██████████| 985/985 [00:24<00:00, 40.10it/s] \n"
     ]
    },
    {
     "name": "stdout",
     "output_type": "stream",
     "text": [
      "[Epoch 25] LogisticLoss: 13.036970\n"
     ]
    },
    {
     "name": "stderr",
     "output_type": "stream",
     "text": [
      "Epoch 26: 100%|██████████| 985/985 [00:08<00:00, 111.10it/s]\n"
     ]
    },
    {
     "name": "stdout",
     "output_type": "stream",
     "text": [
      "[Epoch 26] LogisticLoss: 13.026736\n"
     ]
    },
    {
     "name": "stderr",
     "output_type": "stream",
     "text": [
      "Epoch 27: 100%|██████████| 985/985 [00:08<00:00, 110.63it/s]\n"
     ]
    },
    {
     "name": "stdout",
     "output_type": "stream",
     "text": [
      "[Epoch 27] LogisticLoss: 13.011393\n"
     ]
    },
    {
     "name": "stderr",
     "output_type": "stream",
     "text": [
      "Epoch 28: 100%|██████████| 985/985 [00:09<00:00, 108.88it/s]\n"
     ]
    },
    {
     "name": "stdout",
     "output_type": "stream",
     "text": [
      "[Epoch 28] LogisticLoss: 13.012967\n"
     ]
    },
    {
     "name": "stderr",
     "output_type": "stream",
     "text": [
      "Epoch 29: 100%|██████████| 985/985 [00:09<00:00, 107.49it/s]\n"
     ]
    },
    {
     "name": "stdout",
     "output_type": "stream",
     "text": [
      "[Epoch 29] LogisticLoss: 12.973446\n"
     ]
    },
    {
     "name": "stderr",
     "output_type": "stream",
     "text": [
      "Epoch 30: 100%|██████████| 985/985 [00:09<00:00, 102.12it/s]\n"
     ]
    },
    {
     "name": "stdout",
     "output_type": "stream",
     "text": [
      "[Epoch 30] LogisticLoss: 12.961350\n"
     ]
    },
    {
     "name": "stderr",
     "output_type": "stream",
     "text": [
      "Epoch 31: 100%|██████████| 985/985 [00:09<00:00, 107.07it/s]\n"
     ]
    },
    {
     "name": "stdout",
     "output_type": "stream",
     "text": [
      "[Epoch 31] LogisticLoss: 12.939939\n"
     ]
    },
    {
     "name": "stderr",
     "output_type": "stream",
     "text": [
      "Epoch 32: 100%|██████████| 985/985 [00:09<00:00, 106.81it/s]\n"
     ]
    },
    {
     "name": "stdout",
     "output_type": "stream",
     "text": [
      "[Epoch 32] LogisticLoss: 12.947442\n"
     ]
    },
    {
     "name": "stderr",
     "output_type": "stream",
     "text": [
      "Epoch 33: 100%|██████████| 985/985 [00:09<00:00, 105.88it/s]\n"
     ]
    },
    {
     "name": "stdout",
     "output_type": "stream",
     "text": [
      "[Epoch 33] LogisticLoss: 12.868913\n"
     ]
    },
    {
     "name": "stderr",
     "output_type": "stream",
     "text": [
      "Epoch 34: 100%|██████████| 985/985 [00:09<00:00, 106.63it/s]\n"
     ]
    },
    {
     "name": "stdout",
     "output_type": "stream",
     "text": [
      "[Epoch 34] LogisticLoss: 12.837756\n"
     ]
    },
    {
     "name": "stderr",
     "output_type": "stream",
     "text": [
      "Epoch 35: 100%|██████████| 985/985 [00:25<00:00, 38.37it/s] \n"
     ]
    },
    {
     "name": "stdout",
     "output_type": "stream",
     "text": [
      "[Epoch 35] LogisticLoss: 12.820581\n"
     ]
    },
    {
     "name": "stderr",
     "output_type": "stream",
     "text": [
      "Epoch 36: 100%|██████████| 985/985 [00:10<00:00, 91.25it/s] \n"
     ]
    },
    {
     "name": "stdout",
     "output_type": "stream",
     "text": [
      "[Epoch 36] LogisticLoss: 12.810575\n"
     ]
    },
    {
     "name": "stderr",
     "output_type": "stream",
     "text": [
      "Epoch 37: 100%|██████████| 985/985 [00:08<00:00, 113.60it/s]\n"
     ]
    },
    {
     "name": "stdout",
     "output_type": "stream",
     "text": [
      "[Epoch 37] LogisticLoss: 12.796728\n"
     ]
    },
    {
     "name": "stderr",
     "output_type": "stream",
     "text": [
      "Epoch 38: 100%|██████████| 985/985 [00:08<00:00, 110.09it/s]\n"
     ]
    },
    {
     "name": "stdout",
     "output_type": "stream",
     "text": [
      "[Epoch 38] LogisticLoss: 12.975883\n"
     ]
    },
    {
     "name": "stderr",
     "output_type": "stream",
     "text": [
      "Epoch 39: 100%|██████████| 985/985 [00:09<00:00, 108.73it/s]\n"
     ]
    },
    {
     "name": "stdout",
     "output_type": "stream",
     "text": [
      "[Epoch 39] LogisticLoss: 12.890167\n"
     ]
    },
    {
     "name": "stderr",
     "output_type": "stream",
     "text": [
      "Epoch 40: 100%|██████████| 985/985 [00:38<00:00, 25.88it/s] \n"
     ]
    },
    {
     "name": "stdout",
     "output_type": "stream",
     "text": [
      "[Epoch 40] LogisticLoss: 12.858149\n"
     ]
    },
    {
     "name": "stderr",
     "output_type": "stream",
     "text": [
      "Epoch 41: 100%|██████████| 985/985 [00:10<00:00, 95.40it/s] \n"
     ]
    },
    {
     "name": "stdout",
     "output_type": "stream",
     "text": [
      "[Epoch 41] LogisticLoss: 12.840933\n"
     ]
    },
    {
     "name": "stderr",
     "output_type": "stream",
     "text": [
      "Epoch 42: 100%|██████████| 985/985 [00:08<00:00, 117.74it/s]\n"
     ]
    },
    {
     "name": "stdout",
     "output_type": "stream",
     "text": [
      "[Epoch 42] LogisticLoss: 12.898754\n"
     ]
    },
    {
     "name": "stderr",
     "output_type": "stream",
     "text": [
      "Epoch 43: 100%|██████████| 985/985 [00:08<00:00, 114.54it/s]\n"
     ]
    },
    {
     "name": "stdout",
     "output_type": "stream",
     "text": [
      "[Epoch 43] LogisticLoss: 12.806779\n"
     ]
    },
    {
     "name": "stderr",
     "output_type": "stream",
     "text": [
      "Epoch 44: 100%|██████████| 985/985 [00:08<00:00, 109.71it/s]\n"
     ]
    },
    {
     "name": "stdout",
     "output_type": "stream",
     "text": [
      "[Epoch 44] LogisticLoss: 12.786716\n"
     ]
    },
    {
     "name": "stderr",
     "output_type": "stream",
     "text": [
      "Epoch 45: 100%|██████████| 985/985 [00:10<00:00, 90.45it/s] \n"
     ]
    },
    {
     "name": "stdout",
     "output_type": "stream",
     "text": [
      "[Epoch 45] LogisticLoss: 12.783150\n"
     ]
    },
    {
     "name": "stderr",
     "output_type": "stream",
     "text": [
      "Epoch 46: 100%|██████████| 985/985 [00:11<00:00, 89.40it/s] \n"
     ]
    },
    {
     "name": "stdout",
     "output_type": "stream",
     "text": [
      "[Epoch 46] LogisticLoss: 12.761727\n"
     ]
    },
    {
     "name": "stderr",
     "output_type": "stream",
     "text": [
      "Epoch 47: 100%|██████████| 985/985 [00:08<00:00, 109.97it/s]\n"
     ]
    },
    {
     "name": "stdout",
     "output_type": "stream",
     "text": [
      "[Epoch 47] LogisticLoss: 12.750236\n"
     ]
    },
    {
     "name": "stderr",
     "output_type": "stream",
     "text": [
      "Epoch 48: 100%|██████████| 985/985 [00:09<00:00, 108.91it/s]\n"
     ]
    },
    {
     "name": "stdout",
     "output_type": "stream",
     "text": [
      "[Epoch 48] LogisticLoss: 12.739171\n"
     ]
    },
    {
     "name": "stderr",
     "output_type": "stream",
     "text": [
      "Epoch 49: 100%|██████████| 985/985 [00:09<00:00, 107.74it/s]\n"
     ]
    },
    {
     "name": "stdout",
     "output_type": "stream",
     "text": [
      "[Epoch 49] LogisticLoss: 12.718679\n"
     ]
    },
    {
     "name": "stderr",
     "output_type": "stream",
     "text": [
      "Epoch 50: 100%|██████████| 985/985 [00:16<00:00, 60.74it/s] \n"
     ]
    },
    {
     "name": "stdout",
     "output_type": "stream",
     "text": [
      "[Epoch 50] LogisticLoss: 12.711502\n"
     ]
    },
    {
     "name": "stderr",
     "output_type": "stream",
     "text": [
      "Epoch 51: 100%|██████████| 985/985 [00:10<00:00, 89.89it/s] \n"
     ]
    },
    {
     "name": "stdout",
     "output_type": "stream",
     "text": [
      "[Epoch 51] LogisticLoss: 12.709681\n"
     ]
    },
    {
     "name": "stderr",
     "output_type": "stream",
     "text": [
      "Epoch 52: 100%|██████████| 985/985 [00:08<00:00, 110.57it/s]\n"
     ]
    },
    {
     "name": "stdout",
     "output_type": "stream",
     "text": [
      "[Epoch 52] LogisticLoss: 12.705138\n"
     ]
    },
    {
     "name": "stderr",
     "output_type": "stream",
     "text": [
      "Epoch 53: 100%|██████████| 985/985 [00:09<00:00, 108.92it/s]\n"
     ]
    },
    {
     "name": "stdout",
     "output_type": "stream",
     "text": [
      "[Epoch 53] LogisticLoss: 12.680231\n"
     ]
    },
    {
     "name": "stderr",
     "output_type": "stream",
     "text": [
      "Epoch 54: 100%|██████████| 985/985 [00:09<00:00, 107.36it/s]\n"
     ]
    },
    {
     "name": "stdout",
     "output_type": "stream",
     "text": [
      "[Epoch 54] LogisticLoss: 12.671900\n"
     ]
    },
    {
     "name": "stderr",
     "output_type": "stream",
     "text": [
      "Epoch 55: 100%|██████████| 985/985 [00:18<00:00, 51.98it/s] \n"
     ]
    },
    {
     "name": "stdout",
     "output_type": "stream",
     "text": [
      "[Epoch 55] LogisticLoss: 12.662559\n"
     ]
    },
    {
     "name": "stderr",
     "output_type": "stream",
     "text": [
      "Epoch 56: 100%|██████████| 985/985 [00:10<00:00, 91.60it/s] \n"
     ]
    },
    {
     "name": "stdout",
     "output_type": "stream",
     "text": [
      "[Epoch 56] LogisticLoss: 12.645360\n"
     ]
    },
    {
     "name": "stderr",
     "output_type": "stream",
     "text": [
      "Epoch 57: 100%|██████████| 985/985 [00:08<00:00, 111.93it/s]\n"
     ]
    },
    {
     "name": "stdout",
     "output_type": "stream",
     "text": [
      "[Epoch 57] LogisticLoss: 12.645470\n"
     ]
    },
    {
     "name": "stderr",
     "output_type": "stream",
     "text": [
      "Epoch 58: 100%|██████████| 985/985 [00:08<00:00, 109.50it/s]\n"
     ]
    },
    {
     "name": "stdout",
     "output_type": "stream",
     "text": [
      "[Epoch 58] LogisticLoss: 12.633343\n"
     ]
    },
    {
     "name": "stderr",
     "output_type": "stream",
     "text": [
      "Epoch 59: 100%|██████████| 985/985 [00:09<00:00, 108.32it/s]\n"
     ]
    },
    {
     "name": "stdout",
     "output_type": "stream",
     "text": [
      "[Epoch 59] LogisticLoss: 12.626713\n"
     ]
    },
    {
     "name": "stderr",
     "output_type": "stream",
     "text": [
      "Epoch 60: 100%|██████████| 985/985 [00:18<00:00, 53.50it/s] \n"
     ]
    },
    {
     "name": "stdout",
     "output_type": "stream",
     "text": [
      "[Epoch 60] LogisticLoss: 12.606921\n"
     ]
    },
    {
     "name": "stderr",
     "output_type": "stream",
     "text": [
      "Epoch 61: 100%|██████████| 985/985 [00:10<00:00, 91.44it/s] \n"
     ]
    },
    {
     "name": "stdout",
     "output_type": "stream",
     "text": [
      "[Epoch 61] LogisticLoss: 12.600110\n"
     ]
    },
    {
     "name": "stderr",
     "output_type": "stream",
     "text": [
      "Epoch 62: 100%|██████████| 985/985 [00:08<00:00, 111.66it/s]\n"
     ]
    },
    {
     "name": "stdout",
     "output_type": "stream",
     "text": [
      "[Epoch 62] LogisticLoss: 12.589707\n"
     ]
    },
    {
     "name": "stderr",
     "output_type": "stream",
     "text": [
      "Epoch 63: 100%|██████████| 985/985 [00:08<00:00, 109.76it/s]\n"
     ]
    },
    {
     "name": "stdout",
     "output_type": "stream",
     "text": [
      "[Epoch 63] LogisticLoss: 12.582518\n"
     ]
    },
    {
     "name": "stderr",
     "output_type": "stream",
     "text": [
      "Epoch 64: 100%|██████████| 985/985 [00:09<00:00, 108.33it/s]\n"
     ]
    },
    {
     "name": "stdout",
     "output_type": "stream",
     "text": [
      "[Epoch 64] LogisticLoss: 12.559543\n"
     ]
    },
    {
     "name": "stderr",
     "output_type": "stream",
     "text": [
      "Epoch 65: 100%|██████████| 985/985 [00:11<00:00, 85.16it/s] \n"
     ]
    },
    {
     "name": "stdout",
     "output_type": "stream",
     "text": [
      "[Epoch 65] LogisticLoss: 12.553057\n"
     ]
    },
    {
     "name": "stderr",
     "output_type": "stream",
     "text": [
      "Epoch 66: 100%|██████████| 985/985 [00:11<00:00, 88.48it/s] \n"
     ]
    },
    {
     "name": "stdout",
     "output_type": "stream",
     "text": [
      "[Epoch 66] LogisticLoss: 12.539312\n"
     ]
    },
    {
     "name": "stderr",
     "output_type": "stream",
     "text": [
      "Epoch 67: 100%|██████████| 985/985 [00:09<00:00, 108.86it/s]\n"
     ]
    },
    {
     "name": "stdout",
     "output_type": "stream",
     "text": [
      "[Epoch 67] LogisticLoss: 12.523330\n"
     ]
    },
    {
     "name": "stderr",
     "output_type": "stream",
     "text": [
      "Epoch 68: 100%|██████████| 985/985 [00:09<00:00, 104.48it/s]\n"
     ]
    },
    {
     "name": "stdout",
     "output_type": "stream",
     "text": [
      "[Epoch 68] LogisticLoss: 12.520368\n"
     ]
    },
    {
     "name": "stderr",
     "output_type": "stream",
     "text": [
      "Epoch 69: 100%|██████████| 985/985 [00:09<00:00, 106.46it/s]\n"
     ]
    },
    {
     "name": "stdout",
     "output_type": "stream",
     "text": [
      "[Epoch 69] LogisticLoss: 12.525186\n"
     ]
    },
    {
     "name": "stderr",
     "output_type": "stream",
     "text": [
      "Epoch 70: 100%|██████████| 985/985 [00:11<00:00, 85.43it/s] \n"
     ]
    },
    {
     "name": "stdout",
     "output_type": "stream",
     "text": [
      "[Epoch 70] LogisticLoss: 12.478635\n"
     ]
    },
    {
     "name": "stderr",
     "output_type": "stream",
     "text": [
      "Epoch 71: 100%|██████████| 985/985 [00:11<00:00, 88.04it/s] \n"
     ]
    },
    {
     "name": "stdout",
     "output_type": "stream",
     "text": [
      "[Epoch 71] LogisticLoss: 12.464598\n"
     ]
    },
    {
     "name": "stderr",
     "output_type": "stream",
     "text": [
      "Epoch 72: 100%|██████████| 985/985 [00:09<00:00, 108.22it/s]\n"
     ]
    },
    {
     "name": "stdout",
     "output_type": "stream",
     "text": [
      "[Epoch 72] LogisticLoss: 12.473611\n"
     ]
    },
    {
     "name": "stderr",
     "output_type": "stream",
     "text": [
      "Epoch 73: 100%|██████████| 985/985 [00:09<00:00, 107.35it/s]\n"
     ]
    },
    {
     "name": "stdout",
     "output_type": "stream",
     "text": [
      "[Epoch 73] LogisticLoss: 12.433131\n"
     ]
    },
    {
     "name": "stderr",
     "output_type": "stream",
     "text": [
      "Epoch 74: 100%|██████████| 985/985 [00:09<00:00, 106.70it/s]\n"
     ]
    },
    {
     "name": "stdout",
     "output_type": "stream",
     "text": [
      "[Epoch 74] LogisticLoss: 12.415925\n"
     ]
    },
    {
     "name": "stderr",
     "output_type": "stream",
     "text": [
      "Epoch 75: 100%|██████████| 985/985 [00:10<00:00, 91.92it/s] \n"
     ]
    },
    {
     "name": "stdout",
     "output_type": "stream",
     "text": [
      "[Epoch 75] LogisticLoss: 12.399725\n"
     ]
    },
    {
     "name": "stderr",
     "output_type": "stream",
     "text": [
      "Epoch 76: 100%|██████████| 985/985 [00:11<00:00, 86.82it/s] \n"
     ]
    },
    {
     "name": "stdout",
     "output_type": "stream",
     "text": [
      "[Epoch 76] LogisticLoss: 12.382843\n"
     ]
    },
    {
     "name": "stderr",
     "output_type": "stream",
     "text": [
      "Epoch 77: 100%|██████████| 985/985 [00:09<00:00, 107.17it/s]\n"
     ]
    },
    {
     "name": "stdout",
     "output_type": "stream",
     "text": [
      "[Epoch 77] LogisticLoss: 12.364862\n"
     ]
    },
    {
     "name": "stderr",
     "output_type": "stream",
     "text": [
      "Epoch 78: 100%|██████████| 985/985 [00:09<00:00, 106.67it/s]\n"
     ]
    },
    {
     "name": "stdout",
     "output_type": "stream",
     "text": [
      "[Epoch 78] LogisticLoss: 12.341216\n"
     ]
    },
    {
     "name": "stderr",
     "output_type": "stream",
     "text": [
      "Epoch 79: 100%|██████████| 985/985 [00:09<00:00, 106.57it/s]\n"
     ]
    },
    {
     "name": "stdout",
     "output_type": "stream",
     "text": [
      "[Epoch 79] LogisticLoss: 12.324702\n"
     ]
    },
    {
     "name": "stderr",
     "output_type": "stream",
     "text": [
      "Epoch 80: 100%|██████████| 985/985 [00:14<00:00, 69.03it/s] \n"
     ]
    },
    {
     "name": "stdout",
     "output_type": "stream",
     "text": [
      "[Epoch 80] LogisticLoss: 12.303487\n"
     ]
    },
    {
     "name": "stderr",
     "output_type": "stream",
     "text": [
      "Epoch 81: 100%|██████████| 985/985 [00:11<00:00, 89.15it/s] \n"
     ]
    },
    {
     "name": "stdout",
     "output_type": "stream",
     "text": [
      "[Epoch 81] LogisticLoss: 12.301346\n"
     ]
    },
    {
     "name": "stderr",
     "output_type": "stream",
     "text": [
      "Epoch 82: 100%|██████████| 985/985 [00:09<00:00, 108.47it/s]\n"
     ]
    },
    {
     "name": "stdout",
     "output_type": "stream",
     "text": [
      "[Epoch 82] LogisticLoss: 12.293394\n"
     ]
    },
    {
     "name": "stderr",
     "output_type": "stream",
     "text": [
      "Epoch 83: 100%|██████████| 985/985 [00:09<00:00, 107.95it/s]\n"
     ]
    },
    {
     "name": "stdout",
     "output_type": "stream",
     "text": [
      "[Epoch 83] LogisticLoss: 12.284978\n"
     ]
    },
    {
     "name": "stderr",
     "output_type": "stream",
     "text": [
      "Epoch 84: 100%|██████████| 985/985 [00:09<00:00, 107.15it/s]\n"
     ]
    },
    {
     "name": "stdout",
     "output_type": "stream",
     "text": [
      "[Epoch 84] LogisticLoss: 12.256835\n"
     ]
    },
    {
     "name": "stderr",
     "output_type": "stream",
     "text": [
      "Epoch 85: 100%|██████████| 985/985 [00:11<00:00, 85.29it/s] \n"
     ]
    },
    {
     "name": "stdout",
     "output_type": "stream",
     "text": [
      "[Epoch 85] LogisticLoss: 12.248945\n"
     ]
    },
    {
     "name": "stderr",
     "output_type": "stream",
     "text": [
      "Epoch 86: 100%|██████████| 985/985 [00:11<00:00, 88.00it/s] \n"
     ]
    },
    {
     "name": "stdout",
     "output_type": "stream",
     "text": [
      "[Epoch 86] LogisticLoss: 12.231333\n"
     ]
    },
    {
     "name": "stderr",
     "output_type": "stream",
     "text": [
      "Epoch 87: 100%|██████████| 985/985 [00:09<00:00, 107.50it/s]\n"
     ]
    },
    {
     "name": "stdout",
     "output_type": "stream",
     "text": [
      "[Epoch 87] LogisticLoss: 12.230723\n"
     ]
    },
    {
     "name": "stderr",
     "output_type": "stream",
     "text": [
      "Epoch 88: 100%|██████████| 985/985 [00:09<00:00, 106.91it/s]\n"
     ]
    },
    {
     "name": "stdout",
     "output_type": "stream",
     "text": [
      "[Epoch 88] LogisticLoss: 12.224009\n"
     ]
    },
    {
     "name": "stderr",
     "output_type": "stream",
     "text": [
      "Epoch 89: 100%|██████████| 985/985 [00:09<00:00, 106.65it/s]\n"
     ]
    },
    {
     "name": "stdout",
     "output_type": "stream",
     "text": [
      "[Epoch 89] LogisticLoss: 12.199371\n"
     ]
    },
    {
     "name": "stderr",
     "output_type": "stream",
     "text": [
      "Epoch 90: 100%|██████████| 985/985 [00:25<00:00, 39.07it/s] \n"
     ]
    },
    {
     "name": "stdout",
     "output_type": "stream",
     "text": [
      "[Epoch 90] LogisticLoss: 12.213247\n"
     ]
    },
    {
     "name": "stderr",
     "output_type": "stream",
     "text": [
      "Epoch 91: 100%|██████████| 985/985 [00:10<00:00, 92.21it/s] \n"
     ]
    },
    {
     "name": "stdout",
     "output_type": "stream",
     "text": [
      "[Epoch 91] LogisticLoss: 12.172644\n"
     ]
    },
    {
     "name": "stderr",
     "output_type": "stream",
     "text": [
      "Epoch 92: 100%|██████████| 985/985 [00:08<00:00, 112.11it/s]\n"
     ]
    },
    {
     "name": "stdout",
     "output_type": "stream",
     "text": [
      "[Epoch 92] LogisticLoss: 12.172018\n"
     ]
    },
    {
     "name": "stderr",
     "output_type": "stream",
     "text": [
      "Epoch 93: 100%|██████████| 985/985 [00:08<00:00, 110.26it/s]\n"
     ]
    },
    {
     "name": "stdout",
     "output_type": "stream",
     "text": [
      "[Epoch 93] LogisticLoss: 12.945565\n"
     ]
    },
    {
     "name": "stderr",
     "output_type": "stream",
     "text": [
      "Epoch 94: 100%|██████████| 985/985 [00:09<00:00, 108.92it/s]\n"
     ]
    },
    {
     "name": "stdout",
     "output_type": "stream",
     "text": [
      "[Epoch 94] LogisticLoss: 12.235880\n"
     ]
    },
    {
     "name": "stderr",
     "output_type": "stream",
     "text": [
      "Epoch 95: 100%|██████████| 985/985 [00:11<00:00, 85.10it/s] \n"
     ]
    },
    {
     "name": "stdout",
     "output_type": "stream",
     "text": [
      "[Epoch 95] LogisticLoss: 12.191553\n"
     ]
    },
    {
     "name": "stderr",
     "output_type": "stream",
     "text": [
      "Epoch 96: 100%|██████████| 985/985 [00:11<00:00, 88.81it/s] \n"
     ]
    },
    {
     "name": "stdout",
     "output_type": "stream",
     "text": [
      "[Epoch 96] LogisticLoss: 12.167181\n"
     ]
    },
    {
     "name": "stderr",
     "output_type": "stream",
     "text": [
      "Epoch 97: 100%|██████████| 985/985 [00:09<00:00, 108.06it/s]\n"
     ]
    },
    {
     "name": "stdout",
     "output_type": "stream",
     "text": [
      "[Epoch 97] LogisticLoss: 12.099882\n"
     ]
    },
    {
     "name": "stderr",
     "output_type": "stream",
     "text": [
      "Epoch 98: 100%|██████████| 985/985 [00:09<00:00, 107.34it/s]\n"
     ]
    },
    {
     "name": "stdout",
     "output_type": "stream",
     "text": [
      "[Epoch 98] LogisticLoss: 12.126188\n"
     ]
    },
    {
     "name": "stderr",
     "output_type": "stream",
     "text": [
      "Epoch 99: 100%|██████████| 985/985 [00:09<00:00, 106.78it/s]\n",
      "INFO:root:save parameters to dkt.params\n"
     ]
    },
    {
     "name": "stdout",
     "output_type": "stream",
     "text": [
      "[Epoch 99] LogisticLoss: 12.347364\n"
     ]
    }
   ],
   "source": [
    "dkt = DKT(NUM_QUESTIONS, HIDDEN_SIZE, NUM_LAYERS)\n",
    "dkt.train(train_loader, epoch=100)\n",
    "dkt.save(\"dkt.params\")\n"
   ]
  },
  {
   "cell_type": "code",
   "execution_count": 33,
   "metadata": {},
   "outputs": [
    {
     "name": "stderr",
     "output_type": "stream",
     "text": [
      "/opt/homebrew/Caskroom/miniconda/base/envs/sql_task_adaptation/lib/python3.12/site-packages/EduKTM/DKT/DKT.py:92: FutureWarning: You are using `torch.load` with `weights_only=False` (the current default value), which uses the default pickle module implicitly. It is possible to construct malicious pickle data which will execute arbitrary code during unpickling (See https://github.com/pytorch/pytorch/blob/main/SECURITY.md#untrusted-models for more details). In a future release, the default value for `weights_only` will be flipped to `True`. This limits the functions that could be executed during unpickling. Arbitrary objects will no longer be allowed to be loaded via this mode unless they are explicitly allowlisted by the user via `torch.serialization.add_safe_globals`. We recommend you start setting `weights_only=True` for any use case where you don't have full control of the loaded file. Please open an issue on GitHub for any issues related to this experimental feature.\n",
      "  self.dkt_model.load_state_dict(torch.load(filepath))\n",
      "INFO:root:load parameters from dkt.params\n",
      "evaluating: 100%|██████████| 422/422 [00:10<00:00, 41.81it/s] \n"
     ]
    },
    {
     "name": "stdout",
     "output_type": "stream",
     "text": [
      "auc: 0.932941\n"
     ]
    }
   ],
   "source": [
    "dkt.load(\"dkt.params\")\n",
    "auc = dkt.eval(test_loader)\n",
    "print(\"auc: %.6f\" % auc)"
   ]
  },
  {
   "cell_type": "code",
   "execution_count": 34,
   "metadata": {},
   "outputs": [],
   "source": [
    "def process_raw_pred(raw_question_matrix, raw_pred, num_questions: int) -> tuple:\n",
    "    questions = torch.nonzero(raw_question_matrix)[1:, 1] % num_questions\n",
    "    length = questions.shape[0]\n",
    "    pred = raw_pred[: length]\n",
    "    pred = pred.gather(1, questions.view(-1, 1)).flatten()\n",
    "    truth = torch.nonzero(raw_question_matrix)[1:, 1] // num_questions\n",
    "    \n",
    "    return pred, truth\n",
    "\n",
    "def eval(model, test_data) -> float:\n",
    "    model.eval()\n",
    "    y_pred = torch.Tensor([])\n",
    "    y_truth = torch.Tensor([])\n",
    "    for batch in tqdm.tqdm(test_data, \"evaluating\"):\n",
    "        integrated_pred = model(batch)\n",
    "        batch_size = batch.shape[0]\n",
    "        for student in range(batch_size):\n",
    "            pred, truth = process_raw_pred(batch[student], integrated_pred[student], NUM_QUESTIONS)\n",
    "            y_pred = torch.cat([y_pred, pred])\n",
    "            y_truth = torch.cat([y_truth, truth])\n",
    "    return [y_pred, y_truth]"
   ]
  },
  {
   "cell_type": "code",
   "execution_count": 35,
   "metadata": {},
   "outputs": [
    {
     "name": "stderr",
     "output_type": "stream",
     "text": [
      "evaluating: 100%|██████████| 422/422 [00:05<00:00, 83.92it/s] \n"
     ]
    },
    {
     "name": "stdout",
     "output_type": "stream",
     "text": [
      "tensor([0.6031, 0.5911, 0.5403, 0.2588, 0.4531, 0.5879, 0.4737, 0.4119, 0.6010,\n",
      "        0.6472], grad_fn=<SliceBackward0>)\n",
      "torch.Size([1323000])\n",
      "Binary predictions: tensor([1., 1., 1.,  ..., 1., 1., 1.])\n",
      "Accuracy: tensor(0.9127)\n",
      "y_pred_binary shape torch.Size([1323000])\n"
     ]
    },
    {
     "data": {
      "text/plain": [
       "np.float64(0.93294126459603)"
      ]
     },
     "execution_count": 35,
     "metadata": {},
     "output_type": "execute_result"
    }
   ],
   "source": [
    "model = dkt.dkt_model\n",
    "\n",
    "y_pred, y_truth = eval(model, test_loader)\n",
    "\n",
    "print(y_pred[:10])\n",
    "print(y_truth.shape)\n",
    "\n",
    "y_pred_binary = (y_pred >= 0.5).float()\n",
    "print(\"Binary predictions:\", y_pred_binary)\n",
    "\n",
    "print(\"Accuracy:\", torch.sum(y_pred_binary == y_truth)/len(y_truth))\n",
    "print(\"y_pred_binary shape\", y_pred_binary.shape)\n",
    "roc_auc_score(y_truth.detach().numpy(), y_pred.detach().numpy())"
   ]
  },
  {
   "cell_type": "code",
   "execution_count": null,
   "metadata": {},
   "outputs": [
    {
     "name": "stdout",
     "output_type": "stream",
     "text": [
      "torch.Size([1, 50, 9])\n",
      "tensor([[[4.7285e-01, 6.0306e-01, 7.7191e-01, 5.2794e-01, 8.8285e-01,\n",
      "          3.8078e-01, 3.4245e-01, 5.6543e-01, 8.6812e-01],\n",
      "         [3.8474e-01, 7.4880e-01, 5.9109e-01, 4.8322e-02, 2.2856e-01,\n",
      "          3.5398e-01, 7.9818e-03, 7.0463e-02, 8.7563e-01],\n",
      "         [4.3054e-01, 2.9381e-01, 4.0341e-01, 5.4033e-01, 1.0015e-01,\n",
      "          5.5437e-03, 2.8360e-02, 2.4416e-01, 1.1117e-01],\n",
      "         [6.4683e-01, 6.7789e-01, 4.9755e-01, 7.9187e-01, 2.5879e-01,\n",
      "          1.9562e-02, 8.3900e-01, 8.2422e-01, 4.9452e-03],\n",
      "         [4.8529e-01, 6.7383e-01, 5.8220e-01, 9.5048e-01, 3.1449e-02,\n",
      "          4.5310e-01, 8.2668e-01, 6.4696e-01, 5.1043e-01],\n",
      "         [3.5370e-01, 5.7371e-01, 5.6845e-01, 9.8773e-01, 1.8883e-01,\n",
      "          1.4651e-01, 5.8788e-01, 4.2280e-01, 9.9103e-01],\n",
      "         [2.0328e-01, 7.0403e-01, 5.0446e-01, 9.7427e-01, 2.1935e-01,\n",
      "          1.4610e-01, 6.7992e-01, 4.7367e-01, 9.5128e-01],\n",
      "         [6.4558e-01, 6.3517e-01, 5.6925e-01, 9.4321e-01, 4.6463e-02,\n",
      "          1.4656e-01, 5.3663e-01, 6.7878e-01, 4.1186e-01],\n",
      "         [6.1660e-01, 7.3189e-01, 5.9651e-01, 8.4160e-01, 9.2636e-02,\n",
      "          3.5397e-01, 6.0277e-01, 5.6672e-01, 6.0105e-01],\n",
      "         [3.3299e-01, 6.1550e-01, 5.6117e-01, 9.1807e-01, 1.4485e-01,\n",
      "          4.9655e-01, 8.7004e-01, 6.4725e-01, 6.8038e-01],\n",
      "         [6.7162e-01, 6.8886e-01, 6.4251e-01, 8.8877e-01, 1.6951e-01,\n",
      "          3.8527e-01, 3.3961e-01, 4.1289e-01, 9.7706e-01],\n",
      "         [3.5174e-01, 5.0396e-01, 5.4326e-01, 9.8921e-01, 2.9298e-01,\n",
      "          5.8761e-02, 6.8578e-01, 6.1342e-01, 9.4072e-01],\n",
      "         [3.6919e-01, 8.0909e-01, 5.0548e-01, 7.7642e-01, 7.0599e-02,\n",
      "          3.7206e-01, 5.8380e-01, 5.4985e-01, 3.8369e-01],\n",
      "         [2.9764e-01, 6.9596e-01, 5.1932e-01, 7.4618e-01, 2.2667e-01,\n",
      "          4.8969e-01, 8.8058e-01, 6.7889e-01, 2.5980e-01],\n",
      "         [3.3708e-01, 4.4625e-01, 5.7310e-01, 9.8027e-01, 6.2561e-01,\n",
      "          7.7338e-02, 8.6984e-01, 7.2055e-01, 8.8917e-01],\n",
      "         [5.4929e-01, 8.4150e-01, 5.8412e-01, 7.8858e-01, 2.1870e-01,\n",
      "          2.5041e-01, 3.5861e-01, 3.6013e-01, 9.1036e-01],\n",
      "         [7.5856e-01, 7.1647e-01, 5.7549e-01, 8.3708e-01, 9.4272e-02,\n",
      "          9.3459e-02, 3.6592e-01, 5.7673e-01, 3.7199e-01],\n",
      "         [6.3531e-01, 6.1398e-01, 5.5029e-01, 9.5102e-01, 1.0819e-01,\n",
      "          4.7020e-02, 6.2252e-01, 7.3103e-01, 2.2803e-01],\n",
      "         [5.5665e-01, 7.0674e-01, 5.9325e-01, 8.5423e-01, 2.7477e-01,\n",
      "          2.0988e-01, 7.9232e-01, 6.5592e-01, 4.2465e-01],\n",
      "         [7.8335e-01, 7.0796e-01, 6.8145e-01, 8.8831e-01, 3.5147e-01,\n",
      "          1.8090e-01, 4.7318e-01, 5.3925e-01, 9.1697e-01],\n",
      "         [4.5165e-01, 7.7424e-01, 5.4956e-01, 6.6686e-01, 4.9587e-01,\n",
      "          2.5893e-01, 3.2352e-01, 2.9173e-01, 9.6711e-01],\n",
      "         [3.6588e-01, 5.4437e-01, 5.4397e-01, 9.7388e-01, 5.8614e-01,\n",
      "          4.6882e-02, 6.8589e-01, 6.1806e-01, 9.1063e-01],\n",
      "         [4.1108e-01, 7.8275e-01, 5.1122e-01, 9.1006e-01, 3.2916e-03,\n",
      "          6.7666e-01, 5.4567e-01, 5.6142e-01, 3.6147e-01],\n",
      "         [4.4916e-01, 4.3147e-01, 5.4838e-01, 9.9326e-01, 2.2060e-02,\n",
      "          1.2759e-01, 9.2429e-01, 8.7761e-01, 1.1503e-01],\n",
      "         [5.2364e-01, 7.7458e-01, 6.2738e-01, 9.6263e-01, 5.7949e-02,\n",
      "          3.6654e-01, 7.9994e-01, 6.3680e-01, 6.8999e-01],\n",
      "         [7.2656e-01, 7.0509e-01, 6.4575e-01, 9.5091e-01, 9.5919e-02,\n",
      "          2.0504e-01, 3.4343e-01, 4.3009e-01, 9.6508e-01],\n",
      "         [4.6245e-01, 4.9703e-01, 5.1351e-01, 9.8642e-01, 2.7616e-02,\n",
      "          8.5291e-02, 7.2089e-01, 7.7326e-01, 3.0138e-01],\n",
      "         [2.0118e-01, 7.2157e-01, 5.1362e-01, 9.1926e-01, 2.7741e-01,\n",
      "          2.8138e-01, 9.3964e-01, 7.2981e-01, 2.8120e-01],\n",
      "         [2.8782e-01, 5.7776e-01, 5.6197e-01, 9.5442e-01, 2.3379e-01,\n",
      "          3.8083e-01, 8.8458e-01, 6.3079e-01, 8.4585e-01],\n",
      "         [6.2141e-01, 6.6831e-01, 6.2415e-01, 9.2078e-01, 1.9953e-01,\n",
      "          2.8063e-01, 3.3759e-01, 3.9767e-01, 9.8314e-01],\n",
      "         [3.4115e-01, 4.9273e-01, 5.3513e-01, 9.8977e-01, 2.8169e-01,\n",
      "          5.3539e-02, 7.1453e-01, 6.4595e-01, 9.1178e-01],\n",
      "         [5.5767e-01, 8.5498e-01, 5.6208e-01, 9.0927e-01, 5.1323e-02,\n",
      "          1.5358e-01, 5.3330e-01, 5.5703e-01, 3.9184e-01],\n",
      "         [6.6314e-01, 5.8188e-01, 5.8451e-01, 9.8403e-01, 3.2222e-02,\n",
      "          7.4142e-02, 6.6573e-01, 7.6805e-01, 3.1692e-01],\n",
      "         [3.9955e-01, 4.1931e-01, 5.4520e-01, 9.9146e-01, 1.6101e-01,\n",
      "          4.7683e-02, 9.3831e-01, 8.7425e-01, 1.7474e-01],\n",
      "         [4.0764e-01, 7.8557e-01, 5.6359e-01, 8.9806e-01, 1.5581e-02,\n",
      "          7.6270e-01, 4.3284e-01, 3.5508e-01, 9.4791e-01],\n",
      "         [5.3085e-01, 6.3670e-01, 5.2213e-01, 9.0748e-01, 8.9358e-03,\n",
      "          5.0544e-01, 4.2634e-01, 5.4013e-01, 5.9138e-01],\n",
      "         [7.5701e-01, 6.8611e-01, 6.0030e-01, 8.9042e-01, 8.1791e-03,\n",
      "          4.4216e-01, 6.1165e-01, 7.4045e-01, 1.0322e-01],\n",
      "         [3.5109e-01, 6.9622e-01, 5.6002e-01, 8.6801e-01, 1.3261e-01,\n",
      "          5.5641e-01, 8.4590e-01, 6.0815e-01, 6.2354e-01],\n",
      "         [3.3169e-01, 5.4552e-01, 5.6080e-01, 9.8665e-01, 3.0793e-01,\n",
      "          1.1282e-01, 5.7957e-01, 4.3130e-01, 9.9244e-01],\n",
      "         [4.0581e-01, 7.3873e-01, 4.8164e-01, 8.9932e-01, 9.4187e-04,\n",
      "          8.0735e-01, 4.8935e-01, 5.4507e-01, 2.9051e-01],\n",
      "         [3.7311e-01, 6.3968e-01, 5.4772e-01, 9.0952e-01, 7.0366e-03,\n",
      "          8.4148e-01, 8.8266e-01, 7.3474e-01, 1.8909e-01],\n",
      "         [3.2194e-01, 4.4103e-01, 5.7784e-01, 9.9032e-01, 1.6119e-01,\n",
      "          2.1708e-01, 8.9573e-01, 7.3753e-01, 8.7039e-01],\n",
      "         [5.3979e-01, 8.1557e-01, 5.9171e-01, 8.9515e-01, 5.3540e-02,\n",
      "          4.3828e-01, 3.3518e-01, 3.3799e-01, 9.5663e-01],\n",
      "         [7.1432e-01, 6.8634e-01, 5.5916e-01, 9.1981e-01, 1.6984e-02,\n",
      "          1.7726e-01, 3.9182e-01, 5.9211e-01, 3.6338e-01],\n",
      "         [6.0798e-01, 5.9765e-01, 5.4421e-01, 9.7669e-01, 2.3212e-02,\n",
      "          8.3532e-02, 6.4603e-01, 7.3978e-01, 2.2487e-01],\n",
      "         [5.2879e-01, 6.7985e-01, 5.9163e-01, 9.3430e-01, 8.3363e-02,\n",
      "          2.9896e-01, 8.1408e-01, 6.7381e-01, 4.5555e-01],\n",
      "         [7.6039e-01, 6.9300e-01, 6.7543e-01, 9.3730e-01, 1.3829e-01,\n",
      "          2.6057e-01, 4.7228e-01, 5.3129e-01, 9.3364e-01],\n",
      "         [4.3227e-01, 7.5875e-01, 5.4597e-01, 7.9901e-01, 2.2261e-01,\n",
      "          3.3934e-01, 3.4272e-01, 3.0739e-01, 9.6666e-01],\n",
      "         [3.7092e-01, 5.3764e-01, 5.4756e-01, 9.8611e-01, 3.2042e-01,\n",
      "          6.0595e-02, 6.8824e-01, 6.2309e-01, 9.1675e-01],\n",
      "         [4.1532e-01, 7.8330e-01, 5.1182e-01, 9.2620e-01, 2.0358e-03,\n",
      "          7.0527e-01, 5.4150e-01, 5.6026e-01, 3.6103e-01]]],\n",
      "       grad_fn=<SigmoidBackward0>)\n"
     ]
    }
   ],
   "source": [
    "model = dkt.dkt_model\n",
    "\n",
    "first_batch = next(iter(test_loader))\n",
    "first_batch_element = first_batch[0]\n",
    "first_batch_size_1 = first_batch_element.unsqueeze(0)\n",
    "model.eval()\n",
    "\n",
    "pred = model(first_batch_size_1)\n",
    "\n",
    "print(pred.shape)\n",
    "\n",
    "last_pred = pred[0, -1, :]\n",
    "\n",
    "print(pred)\n",
    "\n",
    "# new_dataset = first_batch_element.unsqueeze(0)\n",
    "\n",
    "# new_test_loader = Data.DataLoader(new_dataset, batch_size=1, shuffle=False)\n",
    "# print(new_test_loader.dataset.shape)\n",
    "# pred_y, true_y = eval(model, new_test_loader)\n",
    "# print(\"Predictions:\", pred_y)\n",
    "# print(\"Ground truth:\", true_y)\n",
    "# print(\"ROC AUC:\", roc_auc_score(true_y.detach().numpy(), pred_y.detach().numpy()))\n"
   ]
  }
 ],
 "metadata": {
  "kernelspec": {
   "display_name": "sql_task_adaptation",
   "language": "python",
   "name": "python3"
  },
  "language_info": {
   "codemirror_mode": {
    "name": "ipython",
    "version": 3
   },
   "file_extension": ".py",
   "mimetype": "text/x-python",
   "name": "python",
   "nbconvert_exporter": "python",
   "pygments_lexer": "ipython3",
   "version": "3.12.3"
  }
 },
 "nbformat": 4,
 "nbformat_minor": 2
}
